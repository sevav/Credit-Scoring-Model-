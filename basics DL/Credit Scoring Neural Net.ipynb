{
 "cells": [
  {
   "cell_type": "code",
   "execution_count": 1,
   "metadata": {},
   "outputs": [],
   "source": [
    "from fastai.tabular import *\n",
    "from sklearn import preprocessing\n",
    "\n"
   ]
  },
  {
   "cell_type": "code",
   "execution_count": 229,
   "metadata": {},
   "outputs": [],
   "source": [
    "dftrain = pd.read_csv('credit_train.csv', dtype={'Term': 'category',\n",
    "                                           'Years in current job': 'category',\n",
    "                                           'Home Ownership': 'category',\n",
    "                                           'Purpose': 'category'})\n",
    "dftest = pd.read_csv('credit_test.csv', dtype={'Term': 'category',\n",
    "                                           'Years in current job': 'category',\n",
    "                                           'Home Ownership': 'category',\n",
    "                                           'Purpose': 'category'\n",
    "                                           \n",
    "                                            })\n",
    "\n",
    "dftrain = dftrain.drop(columns=['Months since last delinquent', 'Loan ID', 'Customer ID','LoanStatus'])\n",
    "dftest = dftest.drop(columns=['Months since last delinquent', 'Loan ID', 'Customer ID'])\n",
    "\n",
    "dftrain = pd.DataFrame(dftrain.dropna())\n",
    "dftest = pd.DataFrame(dftest.dropna())\n"
   ]
  },
  {
   "cell_type": "code",
   "execution_count": 230,
   "metadata": {
    "scrolled": true
   },
   "outputs": [],
   "source": [
    "dftrain = dftrain.drop(dftrain[dftrain['Credit Score'] > 1000].index)\n",
    "dftest = dftest.drop(dftest[dftest['Credit Score'] > 1000].index)\n"
   ]
  },
  {
   "cell_type": "code",
   "execution_count": 148,
   "metadata": {},
   "outputs": [],
   "source": [
    "cont_traindf = dftrain[['CurrentLoanAmount', 'Annual Income','Monthly Debt','Years of Credit History',\n",
    "                  'Years of Credit History','Number of Open Accounts','Number of Credit Problems',\n",
    "                  'Current Credit Balance','Maximum Open Credit','Bankruptcies','Tax Liens']]\n",
    "cont_testdf = dftest[['CurrentLoanAmount', 'Annual Income','Monthly Debt','Years of Credit History',\n",
    "                  'Years of Credit History','Number of Open Accounts','Number of Credit Problems',\n",
    "                  'Current Credit Balance','Maximum Open Credit','Bankruptcies','Tax Liens']]\n",
    "\n",
    "cols = cont_traindf.columns"
   ]
  },
  {
   "cell_type": "code",
   "execution_count": 225,
   "metadata": {},
   "outputs": [
    {
     "data": {
      "text/plain": [
       "15.0"
      ]
     },
     "execution_count": 225,
     "metadata": {},
     "output_type": "execute_result"
    }
   ],
   "source": [
    "dftrain['Tax Liens'].max()"
   ]
  },
  {
   "cell_type": "code",
   "execution_count": 149,
   "metadata": {},
   "outputs": [],
   "source": [
    "x = cont_traindf.values #returns a numpy array\n",
    "min_max_scaler = preprocessing.MinMaxScaler(feature_range=(0,1))\n",
    "x_scaled = min_max_scaler.fit_transform(x)\n",
    "y_scaled = min_max_scaler.fit_transform(cont_testdf)\n",
    "dftrain_scaled = pd.DataFrame(x_scaled, columns=cols)\n",
    "dftest_scaled = pd.DataFrame(y_scaled, columns=cols)"
   ]
  },
  {
   "cell_type": "code",
   "execution_count": 150,
   "metadata": {},
   "outputs": [
    {
     "data": {
      "text/html": [
       "<div>\n",
       "<style scoped>\n",
       "    .dataframe tbody tr th:only-of-type {\n",
       "        vertical-align: middle;\n",
       "    }\n",
       "\n",
       "    .dataframe tbody tr th {\n",
       "        vertical-align: top;\n",
       "    }\n",
       "\n",
       "    .dataframe thead th {\n",
       "        text-align: right;\n",
       "    }\n",
       "</style>\n",
       "<table border=\"1\" class=\"dataframe\">\n",
       "  <thead>\n",
       "    <tr style=\"text-align: right;\">\n",
       "      <th></th>\n",
       "      <th>CurrentLoanAmount</th>\n",
       "      <th>Annual Income</th>\n",
       "      <th>Monthly Debt</th>\n",
       "      <th>Years of Credit History</th>\n",
       "      <th>Years of Credit History</th>\n",
       "      <th>Number of Open Accounts</th>\n",
       "      <th>Number of Credit Problems</th>\n",
       "      <th>Current Credit Balance</th>\n",
       "      <th>Maximum Open Credit</th>\n",
       "      <th>Bankruptcies</th>\n",
       "      <th>Tax Liens</th>\n",
       "    </tr>\n",
       "  </thead>\n",
       "  <tbody>\n",
       "    <tr>\n",
       "      <th>0</th>\n",
       "      <td>0.005900</td>\n",
       "      <td>0.112383</td>\n",
       "      <td>0.292635</td>\n",
       "      <td>0.369610</td>\n",
       "      <td>0.369610</td>\n",
       "      <td>0.148148</td>\n",
       "      <td>0.0</td>\n",
       "      <td>0.038301</td>\n",
       "      <td>0.028219</td>\n",
       "      <td>0.000000</td>\n",
       "      <td>0.0</td>\n",
       "    </tr>\n",
       "    <tr>\n",
       "      <th>1</th>\n",
       "      <td>0.002452</td>\n",
       "      <td>0.103647</td>\n",
       "      <td>0.255175</td>\n",
       "      <td>0.320329</td>\n",
       "      <td>0.320329</td>\n",
       "      <td>0.185185</td>\n",
       "      <td>0.0</td>\n",
       "      <td>0.041852</td>\n",
       "      <td>0.024101</td>\n",
       "      <td>0.000000</td>\n",
       "      <td>0.0</td>\n",
       "    </tr>\n",
       "    <tr>\n",
       "      <th>2</th>\n",
       "      <td>0.001321</td>\n",
       "      <td>0.044548</td>\n",
       "      <td>0.058468</td>\n",
       "      <td>0.178645</td>\n",
       "      <td>0.178645</td>\n",
       "      <td>0.166667</td>\n",
       "      <td>0.0</td>\n",
       "      <td>0.002373</td>\n",
       "      <td>0.010340</td>\n",
       "      <td>0.000000</td>\n",
       "      <td>0.0</td>\n",
       "    </tr>\n",
       "    <tr>\n",
       "      <th>3</th>\n",
       "      <td>0.001548</td>\n",
       "      <td>0.039415</td>\n",
       "      <td>0.116856</td>\n",
       "      <td>0.260780</td>\n",
       "      <td>0.260780</td>\n",
       "      <td>0.277778</td>\n",
       "      <td>0.1</td>\n",
       "      <td>0.009665</td>\n",
       "      <td>0.014158</td>\n",
       "      <td>0.333333</td>\n",
       "      <td>0.0</td>\n",
       "    </tr>\n",
       "    <tr>\n",
       "      <th>4</th>\n",
       "      <td>0.003006</td>\n",
       "      <td>0.094735</td>\n",
       "      <td>0.275062</td>\n",
       "      <td>0.455852</td>\n",
       "      <td>0.455852</td>\n",
       "      <td>0.240741</td>\n",
       "      <td>0.0</td>\n",
       "      <td>0.022157</td>\n",
       "      <td>0.012473</td>\n",
       "      <td>0.000000</td>\n",
       "      <td>0.0</td>\n",
       "    </tr>\n",
       "  </tbody>\n",
       "</table>\n",
       "</div>"
      ],
      "text/plain": [
       "   CurrentLoanAmount  Annual Income  Monthly Debt  Years of Credit History  \\\n",
       "0           0.005900       0.112383      0.292635                 0.369610   \n",
       "1           0.002452       0.103647      0.255175                 0.320329   \n",
       "2           0.001321       0.044548      0.058468                 0.178645   \n",
       "3           0.001548       0.039415      0.116856                 0.260780   \n",
       "4           0.003006       0.094735      0.275062                 0.455852   \n",
       "\n",
       "   Years of Credit History  Number of Open Accounts  \\\n",
       "0                 0.369610                 0.148148   \n",
       "1                 0.320329                 0.185185   \n",
       "2                 0.178645                 0.166667   \n",
       "3                 0.260780                 0.277778   \n",
       "4                 0.455852                 0.240741   \n",
       "\n",
       "   Number of Credit Problems  Current Credit Balance  Maximum Open Credit  \\\n",
       "0                        0.0                0.038301             0.028219   \n",
       "1                        0.0                0.041852             0.024101   \n",
       "2                        0.0                0.002373             0.010340   \n",
       "3                        0.1                0.009665             0.014158   \n",
       "4                        0.0                0.022157             0.012473   \n",
       "\n",
       "   Bankruptcies  Tax Liens  \n",
       "0      0.000000        0.0  \n",
       "1      0.000000        0.0  \n",
       "2      0.000000        0.0  \n",
       "3      0.333333        0.0  \n",
       "4      0.000000        0.0  "
      ]
     },
     "execution_count": 150,
     "metadata": {},
     "output_type": "execute_result"
    }
   ],
   "source": [
    "dftrain_scaled.head()\n",
    "dftest_scaled.head()"
   ]
  },
  {
   "cell_type": "code",
   "execution_count": 151,
   "metadata": {},
   "outputs": [],
   "source": [
    "cont_cols = dftrain.select_dtypes(include=['float64','int64']).columns\n",
    "cat_cols = dftrain.select_dtypes(exclude=['float64','int64']).columns\n",
    "cont_cols = cont_cols.drop('Credit Score')"
   ]
  },
  {
   "cell_type": "code",
   "execution_count": 152,
   "metadata": {},
   "outputs": [
    {
     "data": {
      "text/plain": [
       "Index(['CurrentLoanAmount', 'Annual Income', 'Monthly Debt',\n",
       "       'Years of Credit History', 'Number of Open Accounts',\n",
       "       'Number of Credit Problems', 'Current Credit Balance',\n",
       "       'Maximum Open Credit', 'Bankruptcies', 'Tax Liens'],\n",
       "      dtype='object')"
      ]
     },
     "execution_count": 152,
     "metadata": {},
     "output_type": "execute_result"
    }
   ],
   "source": [
    "cont_cols"
   ]
  },
  {
   "cell_type": "code",
   "execution_count": 204,
   "metadata": {},
   "outputs": [],
   "source": [
    "test = (TabularList.from_df(dftest, cont_names=cont_cols, cat_names=cat_cols))"
   ]
  },
  {
   "cell_type": "code",
   "execution_count": 219,
   "metadata": {},
   "outputs": [],
   "source": [
    "data = (TabularList.from_df(dftrain, cont_names=cont_cols, cat_names=cat_cols)\n",
    "                           .split_by_idx(list(range(800,10000)))\n",
    "                           .label_from_df(cols='Credit Score')\n",
    "                           .databunch())"
   ]
  },
  {
   "cell_type": "code",
   "execution_count": 220,
   "metadata": {},
   "outputs": [
    {
     "data": {
      "text/html": [
       "<table border=\"1\" class=\"dataframe\">\n",
       "  <thead>\n",
       "    <tr style=\"text-align: right;\">\n",
       "      <th>Term</th>\n",
       "      <th>Years in current job</th>\n",
       "      <th>Home Ownership</th>\n",
       "      <th>Purpose</th>\n",
       "      <th>CurrentLoanAmount</th>\n",
       "      <th>Annual Income</th>\n",
       "      <th>Monthly Debt</th>\n",
       "      <th>Years of Credit History</th>\n",
       "      <th>Number of Open Accounts</th>\n",
       "      <th>Number of Credit Problems</th>\n",
       "      <th>Current Credit Balance</th>\n",
       "      <th>Maximum Open Credit</th>\n",
       "      <th>Bankruptcies</th>\n",
       "      <th>Tax Liens</th>\n",
       "      <th>target</th>\n",
       "    </tr>\n",
       "  </thead>\n",
       "  <tbody>\n",
       "    <tr>\n",
       "      <td>Short Term</td>\n",
       "      <td>&lt; 1 year</td>\n",
       "      <td>Home Mortgage</td>\n",
       "      <td>Debt Consolidation</td>\n",
       "      <td>166804.0000</td>\n",
       "      <td>1048876.0000</td>\n",
       "      <td>24299.0996</td>\n",
       "      <td>16.4000</td>\n",
       "      <td>11.0000</td>\n",
       "      <td>0.0000</td>\n",
       "      <td>204801.0000</td>\n",
       "      <td>240020.0000</td>\n",
       "      <td>0.0000</td>\n",
       "      <td>0.0000</td>\n",
       "      <td>724.0</td>\n",
       "    </tr>\n",
       "    <tr>\n",
       "      <td>Short Term</td>\n",
       "      <td>10+ years</td>\n",
       "      <td>Own Home</td>\n",
       "      <td>Debt Consolidation</td>\n",
       "      <td>337524.0000</td>\n",
       "      <td>759620.0000</td>\n",
       "      <td>17218.1797</td>\n",
       "      <td>15.3000</td>\n",
       "      <td>14.0000</td>\n",
       "      <td>0.0000</td>\n",
       "      <td>236417.0000</td>\n",
       "      <td>343024.0000</td>\n",
       "      <td>0.0000</td>\n",
       "      <td>0.0000</td>\n",
       "      <td>697.0</td>\n",
       "    </tr>\n",
       "    <tr>\n",
       "      <td>Long Term</td>\n",
       "      <td>2 years</td>\n",
       "      <td>Home Mortgage</td>\n",
       "      <td>other</td>\n",
       "      <td>559570.0000</td>\n",
       "      <td>1836407.0000</td>\n",
       "      <td>40094.9414</td>\n",
       "      <td>27.2000</td>\n",
       "      <td>18.0000</td>\n",
       "      <td>0.0000</td>\n",
       "      <td>360848.0000</td>\n",
       "      <td>825726.0000</td>\n",
       "      <td>0.0000</td>\n",
       "      <td>0.0000</td>\n",
       "      <td>639.0</td>\n",
       "    </tr>\n",
       "    <tr>\n",
       "      <td>Short Term</td>\n",
       "      <td>6 years</td>\n",
       "      <td>Rent</td>\n",
       "      <td>Debt Consolidation</td>\n",
       "      <td>218746.0000</td>\n",
       "      <td>1511336.0000</td>\n",
       "      <td>20906.8398</td>\n",
       "      <td>13.0000</td>\n",
       "      <td>16.0000</td>\n",
       "      <td>0.0000</td>\n",
       "      <td>174971.0000</td>\n",
       "      <td>306042.0000</td>\n",
       "      <td>0.0000</td>\n",
       "      <td>0.0000</td>\n",
       "      <td>747.0</td>\n",
       "    </tr>\n",
       "    <tr>\n",
       "      <td>Short Term</td>\n",
       "      <td>10+ years</td>\n",
       "      <td>Rent</td>\n",
       "      <td>Debt Consolidation</td>\n",
       "      <td>357522.0000</td>\n",
       "      <td>1524560.0000</td>\n",
       "      <td>20708.6699</td>\n",
       "      <td>24.0000</td>\n",
       "      <td>15.0000</td>\n",
       "      <td>0.0000</td>\n",
       "      <td>828647.0000</td>\n",
       "      <td>1970188.0000</td>\n",
       "      <td>0.0000</td>\n",
       "      <td>0.0000</td>\n",
       "      <td>750.0</td>\n",
       "    </tr>\n",
       "    <tr>\n",
       "      <td>Long Term</td>\n",
       "      <td>5 years</td>\n",
       "      <td>Rent</td>\n",
       "      <td>Debt Consolidation</td>\n",
       "      <td>627264.0000</td>\n",
       "      <td>2128247.0000</td>\n",
       "      <td>25539.0391</td>\n",
       "      <td>18.6000</td>\n",
       "      <td>13.0000</td>\n",
       "      <td>0.0000</td>\n",
       "      <td>817076.0000</td>\n",
       "      <td>1185558.0000</td>\n",
       "      <td>0.0000</td>\n",
       "      <td>0.0000</td>\n",
       "      <td>633.0</td>\n",
       "    </tr>\n",
       "    <tr>\n",
       "      <td>Long Term</td>\n",
       "      <td>7 years</td>\n",
       "      <td>Own Home</td>\n",
       "      <td>Debt Consolidation</td>\n",
       "      <td>321794.0000</td>\n",
       "      <td>662815.0000</td>\n",
       "      <td>5909.9502</td>\n",
       "      <td>12.7000</td>\n",
       "      <td>12.0000</td>\n",
       "      <td>0.0000</td>\n",
       "      <td>102828.0000</td>\n",
       "      <td>400906.0000</td>\n",
       "      <td>0.0000</td>\n",
       "      <td>0.0000</td>\n",
       "      <td>727.0</td>\n",
       "    </tr>\n",
       "    <tr>\n",
       "      <td>Long Term</td>\n",
       "      <td>9 years</td>\n",
       "      <td>Home Mortgage</td>\n",
       "      <td>Debt Consolidation</td>\n",
       "      <td>230692.0000</td>\n",
       "      <td>1824323.0000</td>\n",
       "      <td>8817.5195</td>\n",
       "      <td>18.7000</td>\n",
       "      <td>12.0000</td>\n",
       "      <td>0.0000</td>\n",
       "      <td>485241.0000</td>\n",
       "      <td>1135068.0000</td>\n",
       "      <td>0.0000</td>\n",
       "      <td>0.0000</td>\n",
       "      <td>700.0</td>\n",
       "    </tr>\n",
       "    <tr>\n",
       "      <td>Long Term</td>\n",
       "      <td>10+ years</td>\n",
       "      <td>Home Mortgage</td>\n",
       "      <td>Debt Consolidation</td>\n",
       "      <td>454322.0000</td>\n",
       "      <td>1569514.0000</td>\n",
       "      <td>28251.0996</td>\n",
       "      <td>28.2000</td>\n",
       "      <td>13.0000</td>\n",
       "      <td>2.0000</td>\n",
       "      <td>338295.0000</td>\n",
       "      <td>859034.0000</td>\n",
       "      <td>0.0000</td>\n",
       "      <td>1.0000</td>\n",
       "      <td>710.0</td>\n",
       "    </tr>\n",
       "    <tr>\n",
       "      <td>Short Term</td>\n",
       "      <td>4 years</td>\n",
       "      <td>Home Mortgage</td>\n",
       "      <td>Debt Consolidation</td>\n",
       "      <td>196614.0000</td>\n",
       "      <td>1792365.0000</td>\n",
       "      <td>17774.3105</td>\n",
       "      <td>20.8000</td>\n",
       "      <td>13.0000</td>\n",
       "      <td>0.0000</td>\n",
       "      <td>477204.0000</td>\n",
       "      <td>1001000.0000</td>\n",
       "      <td>0.0000</td>\n",
       "      <td>0.0000</td>\n",
       "      <td>744.0</td>\n",
       "    </tr>\n",
       "  </tbody>\n",
       "</table>"
      ],
      "text/plain": [
       "<IPython.core.display.HTML object>"
      ]
     },
     "metadata": {},
     "output_type": "display_data"
    }
   ],
   "source": [
    "data.show_batch(rows=10)"
   ]
  },
  {
   "cell_type": "code",
   "execution_count": 249,
   "metadata": {},
   "outputs": [],
   "source": [
    "learn = tabular_learner(data, layers=[200,50], metrics= mean_absolute_error, wd=0.01)"
   ]
  },
  {
   "cell_type": "code",
   "execution_count": 250,
   "metadata": {},
   "outputs": [
    {
     "data": {
      "text/html": [],
      "text/plain": [
       "<IPython.core.display.HTML object>"
      ]
     },
     "metadata": {},
     "output_type": "display_data"
    },
    {
     "name": "stdout",
     "output_type": "stream",
     "text": [
      "LR Finder is complete, type {learner_name}.recorder.plot() to see the graph.\n"
     ]
    }
   ],
   "source": [
    "learn.lr_find()"
   ]
  },
  {
   "cell_type": "code",
   "execution_count": 251,
   "metadata": {},
   "outputs": [
    {
     "data": {
      "image/png": "[encoded data removed]",
      "text/plain": [
       "<Figure size 432x288 with 1 Axes>"
      ]
     },
     "metadata": {},
     "output_type": "display_data"
    }
   ],
   "source": [
    "learn.recorder.plot()"
   ]
  },
  {
   "cell_type": "code",
   "execution_count": 252,
   "metadata": {},
   "outputs": [
    {
     "data": {
      "text/html": [
       "<table border=\"1\" class=\"dataframe\">\n",
       "  <thead>\n",
       "    <tr style=\"text-align: left;\">\n",
       "      <th>epoch</th>\n",
       "      <th>train_loss</th>\n",
       "      <th>valid_loss</th>\n",
       "      <th>mean_absolute_error</th>\n",
       "      <th>time</th>\n",
       "    </tr>\n",
       "  </thead>\n",
       "  <tbody>\n",
       "    <tr>\n",
       "      <td>0</td>\n",
       "      <td>575.230469</td>\n",
       "      <td>607.083252</td>\n",
       "      <td>18.510290</td>\n",
       "      <td>00:58</td>\n",
       "    </tr>\n",
       "    <tr>\n",
       "      <td>1</td>\n",
       "      <td>622.466248</td>\n",
       "      <td>10093116.000000</td>\n",
       "      <td>87.659775</td>\n",
       "      <td>00:52</td>\n",
       "    </tr>\n",
       "    <tr>\n",
       "      <td>2</td>\n",
       "      <td>642.423523</td>\n",
       "      <td>656.998474</td>\n",
       "      <td>19.137808</td>\n",
       "      <td>00:51</td>\n",
       "    </tr>\n",
       "    <tr>\n",
       "      <td>3</td>\n",
       "      <td>632.463196</td>\n",
       "      <td>219290.968750</td>\n",
       "      <td>36.238434</td>\n",
       "      <td>00:49</td>\n",
       "    </tr>\n",
       "    <tr>\n",
       "      <td>4</td>\n",
       "      <td>611.862183</td>\n",
       "      <td>1666006777856.000000</td>\n",
       "      <td>37993.109375</td>\n",
       "      <td>00:49</td>\n",
       "    </tr>\n",
       "    <tr>\n",
       "      <td>5</td>\n",
       "      <td>603.823914</td>\n",
       "      <td>762412400640.000000</td>\n",
       "      <td>14050.354492</td>\n",
       "      <td>00:51</td>\n",
       "    </tr>\n",
       "    <tr>\n",
       "      <td>6</td>\n",
       "      <td>573.601074</td>\n",
       "      <td>406536.437500</td>\n",
       "      <td>33.364735</td>\n",
       "      <td>00:51</td>\n",
       "    </tr>\n",
       "    <tr>\n",
       "      <td>7</td>\n",
       "      <td>542.441345</td>\n",
       "      <td>912077248.000000</td>\n",
       "      <td>589.892700</td>\n",
       "      <td>00:51</td>\n",
       "    </tr>\n",
       "    <tr>\n",
       "      <td>8</td>\n",
       "      <td>547.278870</td>\n",
       "      <td>1636990336.000000</td>\n",
       "      <td>923.189697</td>\n",
       "      <td>00:48</td>\n",
       "    </tr>\n",
       "    <tr>\n",
       "      <td>9</td>\n",
       "      <td>525.520752</td>\n",
       "      <td>1514113024.000000</td>\n",
       "      <td>938.175842</td>\n",
       "      <td>00:48</td>\n",
       "    </tr>\n",
       "  </tbody>\n",
       "</table>"
      ],
      "text/plain": [
       "<IPython.core.display.HTML object>"
      ]
     },
     "metadata": {},
     "output_type": "display_data"
    }
   ],
   "source": [
    "learn.fit_one_cycle(10, 2e-1)"
   ]
  },
  {
   "cell_type": "code",
   "execution_count": 257,
   "metadata": {},
   "outputs": [
    {
     "data": {
      "image/png": "[encoded data removed]",
      "text/plain": [
       "<Figure size 432x288 with 1 Axes>"
      ]
     },
     "metadata": {},
     "output_type": "display_data"
    }
   ],
   "source": [
    "learn.recorder.plot_metrics()"
   ]
  },
  {
   "cell_type": "code",
   "execution_count": null,
   "metadata": {},
   "outputs": [],
   "source": []
  }
 ],
 "metadata": {
  "kernelspec": {
   "display_name": "Python 3",
   "language": "python",
   "name": "python3"
  },
  "language_info": {
   "codemirror_mode": {
    "name": "ipython",
    "version": 3
   },
   "file_extension": ".py",
   "mimetype": "text/x-python",
   "name": "python",
   "nbconvert_exporter": "python",
   "pygments_lexer": "ipython3",
   "version": "3.6.5"
  }
 },
 "nbformat": 4,
 "nbformat_minor": 2
}
